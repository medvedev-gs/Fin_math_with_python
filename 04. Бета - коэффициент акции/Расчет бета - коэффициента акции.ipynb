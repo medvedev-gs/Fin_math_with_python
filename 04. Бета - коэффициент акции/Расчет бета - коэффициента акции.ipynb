{
 "cells": [
  {
   "cell_type": "markdown",
   "id": "ec85ec52",
   "metadata": {},
   "source": [
    "# Расчет бета - коэффициента акции"
   ]
  },
  {
   "cell_type": "markdown",
   "id": "22c7047b",
   "metadata": {},
   "source": [
    "## Описание:"
   ]
  },
  {
   "cell_type": "markdown",
   "id": "c647d404",
   "metadata": {},
   "source": [
    "Бета - коэффициент является индикатором степени риска той или иной акции и показывает, на сколько процентов изменится стоимость акции при изменении рыночного индекса на один процент.\n",
    "\n",
    "В данном упражнении проведем расчет бета коэффициента на примере котировок обыкновенных акции Сбербанка и индекса Московской биржи.\n",
    "\n",
    "К-т рассчитан двумя способами. Результаты ниже."
   ]
  },
  {
   "cell_type": "markdown",
   "id": "5844c11c",
   "metadata": {},
   "source": [
    "## Импортируем библиотеки:"
   ]
  },
  {
   "cell_type": "code",
   "execution_count": 1,
   "id": "fd939aa3",
   "metadata": {},
   "outputs": [],
   "source": [
    "import pandas as pd\n",
    "import matplotlib.pyplot as plt\n",
    "import seaborn as sns\n",
    "from sklearn.linear_model import LinearRegression"
   ]
  },
  {
   "cell_type": "code",
   "execution_count": 2,
   "id": "c3f58d7a",
   "metadata": {},
   "outputs": [],
   "source": [
    "sns.set_theme()"
   ]
  },
  {
   "cell_type": "markdown",
   "id": "27324c17",
   "metadata": {},
   "source": [
    "## Зададим константы"
   ]
  },
  {
   "cell_type": "markdown",
   "id": "5a7a5903",
   "metadata": {},
   "source": [
    "#### наименования столбцов в импортируемом файле"
   ]
  },
  {
   "cell_type": "code",
   "execution_count": 3,
   "id": "12a812c1",
   "metadata": {},
   "outputs": [],
   "source": [
    "COLUMNS = ['TICKER', 'PER', 'DATE', 'TIME', 'OPEN', 'HIGH', 'LOW', 'CLOSE', 'VOL']"
   ]
  },
  {
   "cell_type": "markdown",
   "id": "ecb5d822",
   "metadata": {},
   "source": [
    "#### год, выбранный в качестве базы для расчета"
   ]
  },
  {
   "cell_type": "code",
   "execution_count": 4,
   "id": "17e2e5ee",
   "metadata": {},
   "outputs": [],
   "source": [
    "YEAR = '2021'"
   ]
  },
  {
   "cell_type": "markdown",
   "id": "7039155b",
   "metadata": {},
   "source": [
    "## Зададим пользовательскте функции"
   ]
  },
  {
   "cell_type": "markdown",
   "id": "716567d2",
   "metadata": {},
   "source": [
    "#### Функция парсинга и предобработки файла"
   ]
  },
  {
   "cell_type": "code",
   "execution_count": 5,
   "id": "393ea794",
   "metadata": {},
   "outputs": [],
   "source": [
    "def parse_and_preprocess(path):\n",
    "    data = pd.read_csv(path)\n",
    "    data.columns = COLUMNS\n",
    "    data['DATE'] = pd.to_datetime(data['DATE'], format = '%Y%m%d')\n",
    "    data.sort_values(by = 'DATE', inplace=True)\n",
    "    data.set_index('DATE', drop = True, inplace=True)\n",
    "    return data"
   ]
  },
  {
   "cell_type": "markdown",
   "id": "cce81bef",
   "metadata": {},
   "source": [
    "#### Функция первичного обзора файла"
   ]
  },
  {
   "cell_type": "code",
   "execution_count": 6,
   "id": "a5fd24ad",
   "metadata": {},
   "outputs": [],
   "source": [
    "def init_observ(data):\n",
    "    print('Выведем датафрейм на экран:')\n",
    "    display(data)\n",
    "    print('Сводная информация по датафрейму:')\n",
    "    data.info()\n",
    "    print('Проверим наличие пропусков данных:')\n",
    "    print(data.isna().sum())\n",
    "    print('Распечатаем график цен закрытия:')\n",
    "    data['CLOSE'].plot(figsize = (15, 9))\n",
    "    plt.show()"
   ]
  },
  {
   "cell_type": "markdown",
   "id": "a3e8463f",
   "metadata": {},
   "source": [
    "## Загрузка и обзор данных"
   ]
  },
  {
   "cell_type": "markdown",
   "id": "d3d4bbd6",
   "metadata": {},
   "source": [
    "### Индекс Московской биржи"
   ]
  },
  {
   "cell_type": "markdown",
   "id": "0f5fe3ee",
   "metadata": {},
   "source": [
    "#### Загрузка"
   ]
  },
  {
   "cell_type": "code",
   "execution_count": 7,
   "id": "b26a6069",
   "metadata": {},
   "outputs": [],
   "source": [
    "moex = parse_and_preprocess('IMOEX_200101_230308.csv')"
   ]
  },
  {
   "cell_type": "code",
   "execution_count": 8,
   "id": "0922f4aa",
   "metadata": {},
   "outputs": [],
   "source": [
    "moex = moex[YEAR: YEAR]"
   ]
  },
  {
   "cell_type": "markdown",
   "id": "c75002cc",
   "metadata": {},
   "source": [
    "#### Обзор"
   ]
  },
  {
   "cell_type": "code",
   "execution_count": 9,
   "id": "92dd5946",
   "metadata": {
    "scrolled": false
   },
   "outputs": [
    {
     "name": "stdout",
     "output_type": "stream",
     "text": [
      "Выведем датафрейм на экран:\n"
     ]
    },
    {
     "data": {
      "text/html": [
       "<div>\n",
       "<style scoped>\n",
       "    .dataframe tbody tr th:only-of-type {\n",
       "        vertical-align: middle;\n",
       "    }\n",
       "\n",
       "    .dataframe tbody tr th {\n",
       "        vertical-align: top;\n",
       "    }\n",
       "\n",
       "    .dataframe thead th {\n",
       "        text-align: right;\n",
       "    }\n",
       "</style>\n",
       "<table border=\"1\" class=\"dataframe\">\n",
       "  <thead>\n",
       "    <tr style=\"text-align: right;\">\n",
       "      <th></th>\n",
       "      <th>TICKER</th>\n",
       "      <th>PER</th>\n",
       "      <th>TIME</th>\n",
       "      <th>OPEN</th>\n",
       "      <th>HIGH</th>\n",
       "      <th>LOW</th>\n",
       "      <th>CLOSE</th>\n",
       "      <th>VOL</th>\n",
       "    </tr>\n",
       "    <tr>\n",
       "      <th>DATE</th>\n",
       "      <th></th>\n",
       "      <th></th>\n",
       "      <th></th>\n",
       "      <th></th>\n",
       "      <th></th>\n",
       "      <th></th>\n",
       "      <th></th>\n",
       "      <th></th>\n",
       "    </tr>\n",
       "  </thead>\n",
       "  <tbody>\n",
       "    <tr>\n",
       "      <th>2021-01-04</th>\n",
       "      <td>IMOEX</td>\n",
       "      <td>D</td>\n",
       "      <td>0</td>\n",
       "      <td>3304.75</td>\n",
       "      <td>3350.81</td>\n",
       "      <td>3304.17</td>\n",
       "      <td>3350.51</td>\n",
       "      <td>66835524820</td>\n",
       "    </tr>\n",
       "    <tr>\n",
       "      <th>2021-01-05</th>\n",
       "      <td>IMOEX</td>\n",
       "      <td>D</td>\n",
       "      <td>0</td>\n",
       "      <td>3326.06</td>\n",
       "      <td>3365.32</td>\n",
       "      <td>3301.88</td>\n",
       "      <td>3359.15</td>\n",
       "      <td>71655035538</td>\n",
       "    </tr>\n",
       "    <tr>\n",
       "      <th>2021-01-06</th>\n",
       "      <td>IMOEX</td>\n",
       "      <td>D</td>\n",
       "      <td>0</td>\n",
       "      <td>3375.91</td>\n",
       "      <td>3380.63</td>\n",
       "      <td>3344.43</td>\n",
       "      <td>3371.03</td>\n",
       "      <td>71374633095</td>\n",
       "    </tr>\n",
       "    <tr>\n",
       "      <th>2021-01-08</th>\n",
       "      <td>IMOEX</td>\n",
       "      <td>D</td>\n",
       "      <td>0</td>\n",
       "      <td>3399.23</td>\n",
       "      <td>3474.66</td>\n",
       "      <td>3397.15</td>\n",
       "      <td>3454.82</td>\n",
       "      <td>131904843837</td>\n",
       "    </tr>\n",
       "    <tr>\n",
       "      <th>2021-01-11</th>\n",
       "      <td>IMOEX</td>\n",
       "      <td>D</td>\n",
       "      <td>0</td>\n",
       "      <td>3449.91</td>\n",
       "      <td>3516.90</td>\n",
       "      <td>3436.66</td>\n",
       "      <td>3482.48</td>\n",
       "      <td>143248254278</td>\n",
       "    </tr>\n",
       "    <tr>\n",
       "      <th>...</th>\n",
       "      <td>...</td>\n",
       "      <td>...</td>\n",
       "      <td>...</td>\n",
       "      <td>...</td>\n",
       "      <td>...</td>\n",
       "      <td>...</td>\n",
       "      <td>...</td>\n",
       "      <td>...</td>\n",
       "    </tr>\n",
       "    <tr>\n",
       "      <th>2021-12-24</th>\n",
       "      <td>IMOEX</td>\n",
       "      <td>D</td>\n",
       "      <td>0</td>\n",
       "      <td>3698.09</td>\n",
       "      <td>3702.72</td>\n",
       "      <td>3654.17</td>\n",
       "      <td>3702.72</td>\n",
       "      <td>44313579092</td>\n",
       "    </tr>\n",
       "    <tr>\n",
       "      <th>2021-12-27</th>\n",
       "      <td>IMOEX</td>\n",
       "      <td>D</td>\n",
       "      <td>0</td>\n",
       "      <td>3713.25</td>\n",
       "      <td>3741.79</td>\n",
       "      <td>3710.04</td>\n",
       "      <td>3740.63</td>\n",
       "      <td>48803438344</td>\n",
       "    </tr>\n",
       "    <tr>\n",
       "      <th>2021-12-28</th>\n",
       "      <td>IMOEX</td>\n",
       "      <td>D</td>\n",
       "      <td>0</td>\n",
       "      <td>3768.40</td>\n",
       "      <td>3790.14</td>\n",
       "      <td>3751.37</td>\n",
       "      <td>3777.56</td>\n",
       "      <td>63514063658</td>\n",
       "    </tr>\n",
       "    <tr>\n",
       "      <th>2021-12-29</th>\n",
       "      <td>IMOEX</td>\n",
       "      <td>D</td>\n",
       "      <td>0</td>\n",
       "      <td>3757.34</td>\n",
       "      <td>3770.08</td>\n",
       "      <td>3727.54</td>\n",
       "      <td>3741.07</td>\n",
       "      <td>60036690475</td>\n",
       "    </tr>\n",
       "    <tr>\n",
       "      <th>2021-12-30</th>\n",
       "      <td>IMOEX</td>\n",
       "      <td>D</td>\n",
       "      <td>0</td>\n",
       "      <td>3757.07</td>\n",
       "      <td>3789.52</td>\n",
       "      <td>3741.28</td>\n",
       "      <td>3787.26</td>\n",
       "      <td>61262170097</td>\n",
       "    </tr>\n",
       "  </tbody>\n",
       "</table>\n",
       "<p>255 rows × 8 columns</p>\n",
       "</div>"
      ],
      "text/plain": [
       "           TICKER PER  TIME     OPEN     HIGH      LOW    CLOSE           VOL\n",
       "DATE                                                                         \n",
       "2021-01-04  IMOEX   D     0  3304.75  3350.81  3304.17  3350.51   66835524820\n",
       "2021-01-05  IMOEX   D     0  3326.06  3365.32  3301.88  3359.15   71655035538\n",
       "2021-01-06  IMOEX   D     0  3375.91  3380.63  3344.43  3371.03   71374633095\n",
       "2021-01-08  IMOEX   D     0  3399.23  3474.66  3397.15  3454.82  131904843837\n",
       "2021-01-11  IMOEX   D     0  3449.91  3516.90  3436.66  3482.48  143248254278\n",
       "...           ...  ..   ...      ...      ...      ...      ...           ...\n",
       "2021-12-24  IMOEX   D     0  3698.09  3702.72  3654.17  3702.72   44313579092\n",
       "2021-12-27  IMOEX   D     0  3713.25  3741.79  3710.04  3740.63   48803438344\n",
       "2021-12-28  IMOEX   D     0  3768.40  3790.14  3751.37  3777.56   63514063658\n",
       "2021-12-29  IMOEX   D     0  3757.34  3770.08  3727.54  3741.07   60036690475\n",
       "2021-12-30  IMOEX   D     0  3757.07  3789.52  3741.28  3787.26   61262170097\n",
       "\n",
       "[255 rows x 8 columns]"
      ]
     },
     "metadata": {},
     "output_type": "display_data"
    },
    {
     "name": "stdout",
     "output_type": "stream",
     "text": [
      "Сводная информация по датафрейму:\n",
      "<class 'pandas.core.frame.DataFrame'>\n",
      "DatetimeIndex: 255 entries, 2021-01-04 to 2021-12-30\n",
      "Data columns (total 8 columns):\n",
      " #   Column  Non-Null Count  Dtype  \n",
      "---  ------  --------------  -----  \n",
      " 0   TICKER  255 non-null    object \n",
      " 1   PER     255 non-null    object \n",
      " 2   TIME    255 non-null    int64  \n",
      " 3   OPEN    255 non-null    float64\n",
      " 4   HIGH    255 non-null    float64\n",
      " 5   LOW     255 non-null    float64\n",
      " 6   CLOSE   255 non-null    float64\n",
      " 7   VOL     255 non-null    int64  \n",
      "dtypes: float64(4), int64(2), object(2)\n",
      "memory usage: 17.9+ KB\n",
      "Проверим наличие пропусков данных:\n",
      "TICKER    0\n",
      "PER       0\n",
      "TIME      0\n",
      "OPEN      0\n",
      "HIGH      0\n",
      "LOW       0\n",
      "CLOSE     0\n",
      "VOL       0\n",
      "dtype: int64\n",
      "Распечатаем график цен закрытия:\n"
     ]
    },
    {
     "data": {
      "image/png": "[encoded data removed]",
      "text/plain": [
       "<Figure size 1080x648 with 1 Axes>"
      ]
     },
     "metadata": {},
     "output_type": "display_data"
    }
   ],
   "source": [
    "init_observ(moex)"
   ]
  },
  {
   "cell_type": "markdown",
   "id": "c5ff8088",
   "metadata": {},
   "source": [
    "### Сбербанк ао"
   ]
  },
  {
   "cell_type": "markdown",
   "id": "fc5f3396",
   "metadata": {},
   "source": [
    "#### Загрузка"
   ]
  },
  {
   "cell_type": "code",
   "execution_count": 10,
   "id": "c0b4f747",
   "metadata": {},
   "outputs": [],
   "source": [
    "sbrf = parse_and_preprocess('SBER_200101_230308.csv')"
   ]
  },
  {
   "cell_type": "code",
   "execution_count": 11,
   "id": "4aa8e5d1",
   "metadata": {},
   "outputs": [],
   "source": [
    "sbrf = sbrf[YEAR: YEAR]"
   ]
  },
  {
   "cell_type": "markdown",
   "id": "c048ac8a",
   "metadata": {},
   "source": [
    "#### Обзор датафрейма"
   ]
  },
  {
   "cell_type": "code",
   "execution_count": 12,
   "id": "a2778514",
   "metadata": {
    "scrolled": false
   },
   "outputs": [
    {
     "name": "stdout",
     "output_type": "stream",
     "text": [
      "Выведем датафрейм на экран:\n"
     ]
    },
    {
     "data": {
      "text/html": [
       "<div>\n",
       "<style scoped>\n",
       "    .dataframe tbody tr th:only-of-type {\n",
       "        vertical-align: middle;\n",
       "    }\n",
       "\n",
       "    .dataframe tbody tr th {\n",
       "        vertical-align: top;\n",
       "    }\n",
       "\n",
       "    .dataframe thead th {\n",
       "        text-align: right;\n",
       "    }\n",
       "</style>\n",
       "<table border=\"1\" class=\"dataframe\">\n",
       "  <thead>\n",
       "    <tr style=\"text-align: right;\">\n",
       "      <th></th>\n",
       "      <th>TICKER</th>\n",
       "      <th>PER</th>\n",
       "      <th>TIME</th>\n",
       "      <th>OPEN</th>\n",
       "      <th>HIGH</th>\n",
       "      <th>LOW</th>\n",
       "      <th>CLOSE</th>\n",
       "      <th>VOL</th>\n",
       "    </tr>\n",
       "    <tr>\n",
       "      <th>DATE</th>\n",
       "      <th></th>\n",
       "      <th></th>\n",
       "      <th></th>\n",
       "      <th></th>\n",
       "      <th></th>\n",
       "      <th></th>\n",
       "      <th></th>\n",
       "      <th></th>\n",
       "    </tr>\n",
       "  </thead>\n",
       "  <tbody>\n",
       "    <tr>\n",
       "      <th>2021-01-04</th>\n",
       "      <td>SBER</td>\n",
       "      <td>D</td>\n",
       "      <td>0</td>\n",
       "      <td>274.67</td>\n",
       "      <td>276.60</td>\n",
       "      <td>270.61</td>\n",
       "      <td>272.00</td>\n",
       "      <td>48799460</td>\n",
       "    </tr>\n",
       "    <tr>\n",
       "      <th>2021-01-05</th>\n",
       "      <td>SBER</td>\n",
       "      <td>D</td>\n",
       "      <td>0</td>\n",
       "      <td>272.67</td>\n",
       "      <td>275.70</td>\n",
       "      <td>270.28</td>\n",
       "      <td>275.20</td>\n",
       "      <td>45554100</td>\n",
       "    </tr>\n",
       "    <tr>\n",
       "      <th>2021-01-06</th>\n",
       "      <td>SBER</td>\n",
       "      <td>D</td>\n",
       "      <td>0</td>\n",
       "      <td>275.90</td>\n",
       "      <td>275.92</td>\n",
       "      <td>271.62</td>\n",
       "      <td>272.93</td>\n",
       "      <td>40905340</td>\n",
       "    </tr>\n",
       "    <tr>\n",
       "      <th>2021-01-08</th>\n",
       "      <td>SBER</td>\n",
       "      <td>D</td>\n",
       "      <td>0</td>\n",
       "      <td>275.11</td>\n",
       "      <td>283.99</td>\n",
       "      <td>275.11</td>\n",
       "      <td>283.64</td>\n",
       "      <td>88672940</td>\n",
       "    </tr>\n",
       "    <tr>\n",
       "      <th>2021-01-11</th>\n",
       "      <td>SBER</td>\n",
       "      <td>D</td>\n",
       "      <td>0</td>\n",
       "      <td>282.75</td>\n",
       "      <td>292.95</td>\n",
       "      <td>279.48</td>\n",
       "      <td>289.49</td>\n",
       "      <td>112210400</td>\n",
       "    </tr>\n",
       "    <tr>\n",
       "      <th>...</th>\n",
       "      <td>...</td>\n",
       "      <td>...</td>\n",
       "      <td>...</td>\n",
       "      <td>...</td>\n",
       "      <td>...</td>\n",
       "      <td>...</td>\n",
       "      <td>...</td>\n",
       "      <td>...</td>\n",
       "    </tr>\n",
       "    <tr>\n",
       "      <th>2021-12-24</th>\n",
       "      <td>SBER</td>\n",
       "      <td>D</td>\n",
       "      <td>0</td>\n",
       "      <td>293.00</td>\n",
       "      <td>294.18</td>\n",
       "      <td>289.00</td>\n",
       "      <td>293.89</td>\n",
       "      <td>37669750</td>\n",
       "    </tr>\n",
       "    <tr>\n",
       "      <th>2021-12-27</th>\n",
       "      <td>SBER</td>\n",
       "      <td>D</td>\n",
       "      <td>0</td>\n",
       "      <td>294.79</td>\n",
       "      <td>296.00</td>\n",
       "      <td>293.37</td>\n",
       "      <td>295.68</td>\n",
       "      <td>35728530</td>\n",
       "    </tr>\n",
       "    <tr>\n",
       "      <th>2021-12-28</th>\n",
       "      <td>SBER</td>\n",
       "      <td>D</td>\n",
       "      <td>0</td>\n",
       "      <td>295.84</td>\n",
       "      <td>297.55</td>\n",
       "      <td>294.18</td>\n",
       "      <td>295.00</td>\n",
       "      <td>37853360</td>\n",
       "    </tr>\n",
       "    <tr>\n",
       "      <th>2021-12-29</th>\n",
       "      <td>SBER</td>\n",
       "      <td>D</td>\n",
       "      <td>0</td>\n",
       "      <td>295.05</td>\n",
       "      <td>295.55</td>\n",
       "      <td>291.33</td>\n",
       "      <td>293.51</td>\n",
       "      <td>37668260</td>\n",
       "    </tr>\n",
       "    <tr>\n",
       "      <th>2021-12-30</th>\n",
       "      <td>SBER</td>\n",
       "      <td>D</td>\n",
       "      <td>0</td>\n",
       "      <td>293.61</td>\n",
       "      <td>294.89</td>\n",
       "      <td>291.52</td>\n",
       "      <td>293.49</td>\n",
       "      <td>42566850</td>\n",
       "    </tr>\n",
       "  </tbody>\n",
       "</table>\n",
       "<p>255 rows × 8 columns</p>\n",
       "</div>"
      ],
      "text/plain": [
       "           TICKER PER  TIME    OPEN    HIGH     LOW   CLOSE        VOL\n",
       "DATE                                                                  \n",
       "2021-01-04   SBER   D     0  274.67  276.60  270.61  272.00   48799460\n",
       "2021-01-05   SBER   D     0  272.67  275.70  270.28  275.20   45554100\n",
       "2021-01-06   SBER   D     0  275.90  275.92  271.62  272.93   40905340\n",
       "2021-01-08   SBER   D     0  275.11  283.99  275.11  283.64   88672940\n",
       "2021-01-11   SBER   D     0  282.75  292.95  279.48  289.49  112210400\n",
       "...           ...  ..   ...     ...     ...     ...     ...        ...\n",
       "2021-12-24   SBER   D     0  293.00  294.18  289.00  293.89   37669750\n",
       "2021-12-27   SBER   D     0  294.79  296.00  293.37  295.68   35728530\n",
       "2021-12-28   SBER   D     0  295.84  297.55  294.18  295.00   37853360\n",
       "2021-12-29   SBER   D     0  295.05  295.55  291.33  293.51   37668260\n",
       "2021-12-30   SBER   D     0  293.61  294.89  291.52  293.49   42566850\n",
       "\n",
       "[255 rows x 8 columns]"
      ]
     },
     "metadata": {},
     "output_type": "display_data"
    },
    {
     "name": "stdout",
     "output_type": "stream",
     "text": [
      "Сводная информация по датафрейму:\n",
      "<class 'pandas.core.frame.DataFrame'>\n",
      "DatetimeIndex: 255 entries, 2021-01-04 to 2021-12-30\n",
      "Data columns (total 8 columns):\n",
      " #   Column  Non-Null Count  Dtype  \n",
      "---  ------  --------------  -----  \n",
      " 0   TICKER  255 non-null    object \n",
      " 1   PER     255 non-null    object \n",
      " 2   TIME    255 non-null    int64  \n",
      " 3   OPEN    255 non-null    float64\n",
      " 4   HIGH    255 non-null    float64\n",
      " 5   LOW     255 non-null    float64\n",
      " 6   CLOSE   255 non-null    float64\n",
      " 7   VOL     255 non-null    int64  \n",
      "dtypes: float64(4), int64(2), object(2)\n",
      "memory usage: 17.9+ KB\n",
      "Проверим наличие пропусков данных:\n",
      "TICKER    0\n",
      "PER       0\n",
      "TIME      0\n",
      "OPEN      0\n",
      "HIGH      0\n",
      "LOW       0\n",
      "CLOSE     0\n",
      "VOL       0\n",
      "dtype: int64\n",
      "Распечатаем график цен закрытия:\n"
     ]
    },
    {
     "data": {
      "image/png": "[encoded data removed]",
      "text/plain": [
       "<Figure size 1080x648 with 1 Axes>"
      ]
     },
     "metadata": {},
     "output_type": "display_data"
    }
   ],
   "source": [
    "init_observ(sbrf)"
   ]
  },
  {
   "cell_type": "markdown",
   "id": "9cc55ce4",
   "metadata": {},
   "source": [
    "## Расчет"
   ]
  },
  {
   "cell_type": "markdown",
   "id": "0ea76f1a",
   "metadata": {},
   "source": [
    "#### расчет дневных доходностей индекса и акции."
   ]
  },
  {
   "cell_type": "code",
   "execution_count": 13,
   "id": "0852cdde",
   "metadata": {},
   "outputs": [],
   "source": [
    "moex['returns'] = moex['CLOSE'].pct_change()"
   ]
  },
  {
   "cell_type": "code",
   "execution_count": 14,
   "id": "5ddc7aa9",
   "metadata": {},
   "outputs": [],
   "source": [
    "sbrf['returns'] = sbrf['CLOSE'].pct_change()"
   ]
  },
  {
   "cell_type": "markdown",
   "id": "4ac20dc1",
   "metadata": {},
   "source": [
    "#### оставим данные только за те дни, за которые имеются котировки и по индексу и по акции."
   ]
  },
  {
   "cell_type": "code",
   "execution_count": 15,
   "id": "e702e5c1",
   "metadata": {},
   "outputs": [],
   "source": [
    "moex = moex.dropna()"
   ]
  },
  {
   "cell_type": "code",
   "execution_count": 16,
   "id": "2c086672",
   "metadata": {},
   "outputs": [],
   "source": [
    "sbrf = sbrf.dropna()"
   ]
  },
  {
   "cell_type": "code",
   "execution_count": 17,
   "id": "d58868f6",
   "metadata": {},
   "outputs": [],
   "source": [
    "moex, sbrf = moex.align(sbrf, join = 'inner', axis = 0)"
   ]
  },
  {
   "cell_type": "markdown",
   "id": "1f962f9b",
   "metadata": {},
   "source": [
    "#### Первый подход.\n",
    "Рассчитаем бета - коэффициент как отношение ковариации доходностей акции и индекса к дисперсии доходностей индекса."
   ]
  },
  {
   "cell_type": "code",
   "execution_count": 18,
   "id": "fb911c48",
   "metadata": {},
   "outputs": [],
   "source": [
    "covariance = sbrf['returns'].cov(moex['returns'])"
   ]
  },
  {
   "cell_type": "code",
   "execution_count": 19,
   "id": "0c417823",
   "metadata": {},
   "outputs": [
    {
     "name": "stdout",
     "output_type": "stream",
     "text": [
      "К-т ковариации: 0.000124\n"
     ]
    }
   ],
   "source": [
    "print('К-т ковариации: {:.6f}'.format(covariance))"
   ]
  },
  {
   "cell_type": "code",
   "execution_count": 20,
   "id": "1cbe90a4",
   "metadata": {},
   "outputs": [],
   "source": [
    "beta = covariance / moex['returns'].var()"
   ]
  },
  {
   "cell_type": "code",
   "execution_count": 21,
   "id": "c1ed29e6",
   "metadata": {},
   "outputs": [
    {
     "name": "stdout",
     "output_type": "stream",
     "text": [
      "Бета ао Сбербанк: 1.1785\n"
     ]
    }
   ],
   "source": [
    "print('Бета ао Сбербанк: {:.4f}'.format(beta))"
   ]
  },
  {
   "cell_type": "markdown",
   "id": "3931073d",
   "metadata": {},
   "source": [
    "#### Второй подход.\n",
    "Рассчитаем бета - коэффициент как к-т линейной регрессии доходностей акции к доходности индекса."
   ]
  },
  {
   "cell_type": "code",
   "execution_count": 22,
   "id": "6b7b3ada",
   "metadata": {},
   "outputs": [],
   "source": [
    "lm = LinearRegression()"
   ]
  },
  {
   "cell_type": "code",
   "execution_count": 23,
   "id": "d5fe94f6",
   "metadata": {},
   "outputs": [],
   "source": [
    "x = moex[['returns']]"
   ]
  },
  {
   "cell_type": "code",
   "execution_count": 24,
   "id": "22a5ca9a",
   "metadata": {},
   "outputs": [],
   "source": [
    "y = sbrf[['returns']]"
   ]
  },
  {
   "cell_type": "code",
   "execution_count": 25,
   "id": "50998ccd",
   "metadata": {},
   "outputs": [
    {
     "data": {
      "text/plain": [
       "LinearRegression()"
      ]
     },
     "execution_count": 25,
     "metadata": {},
     "output_type": "execute_result"
    }
   ],
   "source": [
    "lm.fit(x, y)"
   ]
  },
  {
   "cell_type": "code",
   "execution_count": 26,
   "id": "238e8fc5",
   "metadata": {},
   "outputs": [
    {
     "name": "stdout",
     "output_type": "stream",
     "text": [
      "Бета ао Сбербанк: 1.1785\n"
     ]
    }
   ],
   "source": [
    "print('Бета ао Сбербанк: {:.4f}'.format((lm.coef_)[0][0]))"
   ]
  },
  {
   "cell_type": "markdown",
   "id": "cf9301cf",
   "metadata": {},
   "source": [
    "## Выводы:"
   ]
  },
  {
   "cell_type": "markdown",
   "id": "55364f80",
   "metadata": {},
   "source": [
    "Полученное значение бета - коэффициента указывает, что доходности Сбербанка ао во-первых коррелированы с доходностями индекса, во-вторых, одному проценту изменения доходности индекса в среднем соответствует изменение доходности акции на 1.1785 процента."
   ]
  }
 ],
 "metadata": {
  "kernelspec": {
   "display_name": "Python 3 (ipykernel)",
   "language": "python",
   "name": "python3"
  },
  "language_info": {
   "codemirror_mode": {
    "name": "ipython",
    "version": 3
   },
   "file_extension": ".py",
   "mimetype": "text/x-python",
   "name": "python",
   "nbconvert_exporter": "python",
   "pygments_lexer": "ipython3",
   "version": "3.9.12"
  }
 },
 "nbformat": 4,
 "nbformat_minor": 5
}
