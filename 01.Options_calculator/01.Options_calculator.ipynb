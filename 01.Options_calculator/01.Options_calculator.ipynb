{
 "cells": [
  {
   "cell_type": "markdown",
   "id": "e71fa6e1",
   "metadata": {
    "id": "e71fa6e1"
   },
   "source": [
    "# Опционный калькулятор 1."
   ]
  },
  {
   "cell_type": "markdown",
   "id": "f827dd51",
   "metadata": {
    "id": "f827dd51"
   },
   "source": [
    "#### Описание:"
   ]
  },
  {
   "cell_type": "markdown",
   "id": "0afa78fa",
   "metadata": {
    "id": "0afa78fa"
   },
   "source": [
    "- Применим формулу Блека - Шоулза для определения стоимости и греков опциона.\n",
    "- Применим класс Python для калькулятора."
   ]
  },
  {
   "cell_type": "code",
   "execution_count": 1,
   "id": "f16a2037",
   "metadata": {},
   "outputs": [],
   "source": [
    "import sys"
   ]
  },
  {
   "cell_type": "code",
   "execution_count": 2,
   "id": "7734d0ae",
   "metadata": {},
   "outputs": [],
   "source": [
    "sys.path.append('../')"
   ]
  },
  {
   "cell_type": "code",
   "execution_count": 3,
   "id": "0450bec9",
   "metadata": {},
   "outputs": [],
   "source": [
    "sys.path.append('../includes/')"
   ]
  },
  {
   "cell_type": "code",
   "execution_count": 4,
   "id": "8ff6ea7c",
   "metadata": {},
   "outputs": [
    {
     "data": {
      "text/plain": [
       "['/Users/glebmedvedev/Documents/Financial_math_with_python/01.Options_calculator',\n",
       " '/opt/anaconda3/lib/python39.zip',\n",
       " '/opt/anaconda3/lib/python3.9',\n",
       " '/opt/anaconda3/lib/python3.9/lib-dynload',\n",
       " '',\n",
       " '/opt/anaconda3/lib/python3.9/site-packages',\n",
       " '/opt/anaconda3/lib/python3.9/site-packages/aeosa',\n",
       " '../',\n",
       " '../includes/']"
      ]
     },
     "execution_count": 4,
     "metadata": {},
     "output_type": "execute_result"
    }
   ],
   "source": [
    "sys.path"
   ]
  },
  {
   "cell_type": "markdown",
   "id": "1c9616bd",
   "metadata": {
    "id": "1c9616bd"
   },
   "source": [
    "#### Формула Блека - Шоулза (для опциона на фьючерс)"
   ]
  },
  {
   "cell_type": "code",
   "execution_count": 5,
   "id": "8cd1f0b7",
   "metadata": {},
   "outputs": [],
   "source": [
    "from includes import black_sholes_model as bs"
   ]
  },
  {
   "cell_type": "markdown",
   "id": "3mBFnslhg3m0",
   "metadata": {
    "id": "3mBFnslhg3m0"
   },
   "source": [
    "#### Класс для калькулятора"
   ]
  },
  {
   "cell_type": "code",
   "execution_count": 6,
   "id": "YBDo-Y2ldWPE",
   "metadata": {
    "id": "YBDo-Y2ldWPE"
   },
   "outputs": [],
   "source": [
    "class Option:\n",
    "    def __init__(self, spot, strike, volatility, t, option_type: str) -> None:\n",
    "        self.strike = strike\n",
    "        self.t = t\n",
    "        self.T = t / 365\n",
    "        self.sigma = volatility / 100\n",
    "        self.option_type = option_type\n",
    "        self.prem = bs.premium(spot, strike, self.sigma, self.T, option_type)\n",
    "        self.delta = bs.delta(spot, strike, self.sigma, self.T, option_type)\n",
    "        self.gamma = bs.gamma(spot, strike, self.sigma, self.T)\n",
    "        self.theta = bs.theta(spot, strike, self.sigma, self.T)\n",
    "        self.vega = bs.vega(spot, strike, self.sigma, self.T)\n",
    "        \n",
    "    def __str__(self):\n",
    "        return (\n",
    "            f'Страйк: {self.strike}.\\n'\n",
    "            f'Дней до экспирации: {self.t}.\\n'\n",
    "            f'Тип опциона: {self.option_type}.\\n'\n",
    "            f'Премия опциона: {self.prem:.2f}.\\n'\n",
    "            f'Дельта опциона: {self.delta:.4f}.\\n'\n",
    "            f'Гамма опциона: {self.gamma:.8f}.\\n'\n",
    "            f'1 / Гамма опциона: {1/self.gamma:.2f}.\\n'\n",
    "            f'Тета опциона: {self.theta:.2f}.\\n'\n",
    "            f'Вега опциона: {self.vega:.2f}.\\n'\n",
    "        )"
   ]
  },
  {
   "cell_type": "code",
   "execution_count": 7,
   "id": "30fa9b1d",
   "metadata": {},
   "outputs": [],
   "source": [
    "p = Option(101280, 87500, 34.116, 84, 'Put')"
   ]
  },
  {
   "cell_type": "code",
   "execution_count": 8,
   "id": "ae854d1e",
   "metadata": {},
   "outputs": [
    {
     "name": "stdout",
     "output_type": "stream",
     "text": [
      "Страйк: 87500.\n",
      "Дней до экспирации: 84.\n",
      "Тип опциона: Put.\n",
      "Премия опциона: 1562.36.\n",
      "Дельта опциона: -0.1647.\n",
      "Гамма опциона: 0.00001496.\n",
      "1 / Гамма опциона: 66861.33.\n",
      "Тета опциона: -24.46.\n",
      "Вега опциона: 120.45.\n",
      "\n"
     ]
    }
   ],
   "source": [
    "print(p)"
   ]
  },
  {
   "cell_type": "code",
   "execution_count": 9,
   "id": "5177c5aa",
   "metadata": {},
   "outputs": [],
   "source": [
    "c = Option(101180, 95000, 29.827, 84, 'Call')"
   ]
  },
  {
   "cell_type": "code",
   "execution_count": 10,
   "id": "f59c05de",
   "metadata": {},
   "outputs": [
    {
     "name": "stdout",
     "output_type": "stream",
     "text": [
      "Страйк: 95000.\n",
      "Дней до экспирации: 84.\n",
      "Тип опциона: Call.\n",
      "Премия опциона: 9217.52.\n",
      "Дельта опциона: 0.6957.\n",
      "Гамма опциона: 0.00002417.\n",
      "1 / Гамма опциона: 41372.49.\n",
      "Тета опциона: -30.16.\n",
      "Вега опциона: 169.85.\n",
      "\n"
     ]
    }
   ],
   "source": [
    "print(c)"
   ]
  }
 ],
 "metadata": {
  "colab": {
   "provenance": []
  },
  "kernelspec": {
   "display_name": "Python 3 (ipykernel)",
   "language": "python",
   "name": "python3"
  },
  "language_info": {
   "codemirror_mode": {
    "name": "ipython",
    "version": 3
   },
   "file_extension": ".py",
   "mimetype": "text/x-python",
   "name": "python",
   "nbconvert_exporter": "python",
   "pygments_lexer": "ipython3",
   "version": "3.9.12"
  }
 },
 "nbformat": 4,
 "nbformat_minor": 5
}
