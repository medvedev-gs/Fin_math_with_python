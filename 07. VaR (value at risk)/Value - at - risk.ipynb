{
 "cells": [
  {
   "cell_type": "markdown",
   "id": "ec85ec52",
   "metadata": {},
   "source": [
    "# Пример расчета показателя Value - at - risk."
   ]
  },
  {
   "cell_type": "markdown",
   "id": "22c7047b",
   "metadata": {},
   "source": [
    "## Описание:\n",
    "\n",
    "Показатель Value at risk является одним из наиболее широко применяемых для оценки рыночного риска.\n",
    "\n",
    "Рассчитаем показатель VaR на основе исторического и параметрического подходов. Кроме того, рассчитаем показатель Conditional VaR."
   ]
  },
  {
   "cell_type": "markdown",
   "id": "5844c11c",
   "metadata": {},
   "source": [
    "## Импортируем библиотеки:"
   ]
  },
  {
   "cell_type": "code",
   "execution_count": 1,
   "id": "fd939aa3",
   "metadata": {},
   "outputs": [],
   "source": [
    "import numpy as np\n",
    "import pandas as pd\n",
    "from scipy.stats import norm\n",
    "import matplotlib.pyplot as plt\n",
    "import seaborn as sns"
   ]
  },
  {
   "cell_type": "code",
   "execution_count": 2,
   "id": "c3f58d7a",
   "metadata": {},
   "outputs": [],
   "source": [
    "sns.set_theme()"
   ]
  },
  {
   "cell_type": "markdown",
   "id": "5a7a5903",
   "metadata": {},
   "source": [
    "## Зададим константу (наименования столбцов в импортируемом файле)"
   ]
  },
  {
   "cell_type": "code",
   "execution_count": 3,
   "id": "12a812c1",
   "metadata": {},
   "outputs": [],
   "source": [
    "COLUMNS = ['TICKER', 'PER', 'DATE', 'TIME', 'OPEN', 'HIGH', 'LOW', 'CLOSE', 'VOL']"
   ]
  },
  {
   "cell_type": "markdown",
   "id": "7039155b",
   "metadata": {},
   "source": [
    "## Зададим пользовательскте функции"
   ]
  },
  {
   "cell_type": "markdown",
   "id": "716567d2",
   "metadata": {},
   "source": [
    "#### Функция парсинга и предобработки файла"
   ]
  },
  {
   "cell_type": "code",
   "execution_count": 4,
   "id": "393ea794",
   "metadata": {},
   "outputs": [],
   "source": [
    "def parse_and_preprocess(path):\n",
    "    data = pd.read_csv(path)\n",
    "    data.columns = COLUMNS\n",
    "    data['DATE'] = pd.to_datetime(data['DATE'], format = '%Y%m%d')\n",
    "    data.sort_values(by = 'DATE', inplace=True)\n",
    "    data.set_index('DATE', drop = True, inplace=True)\n",
    "    return data"
   ]
  },
  {
   "cell_type": "markdown",
   "id": "cce81bef",
   "metadata": {},
   "source": [
    "#### Функция первичного обзора файла"
   ]
  },
  {
   "cell_type": "code",
   "execution_count": 5,
   "id": "a5fd24ad",
   "metadata": {},
   "outputs": [],
   "source": [
    "def init_observ(data):\n",
    "    print('Выведем датафрейм на экран:')\n",
    "    display(data)\n",
    "    print('Сводная информация по датафрейму:')\n",
    "    data.info()\n",
    "    print('Проверим наличие пропусков данных:')\n",
    "    print(data.isna().sum())\n",
    "    print('Распечатаем график цен закрытия:')\n",
    "    data['CLOSE'].plot(figsize = (15, 9))\n",
    "    plt.show()"
   ]
  },
  {
   "cell_type": "markdown",
   "id": "a3e8463f",
   "metadata": {},
   "source": [
    "## Загрузка и обзор данных"
   ]
  },
  {
   "cell_type": "markdown",
   "id": "77363ef8",
   "metadata": {},
   "source": [
    "### ВТБ"
   ]
  },
  {
   "cell_type": "markdown",
   "id": "f3d48772",
   "metadata": {},
   "source": [
    "#### Загрузка"
   ]
  },
  {
   "cell_type": "code",
   "execution_count": 6,
   "id": "5d72a7ac",
   "metadata": {},
   "outputs": [],
   "source": [
    "vtb = parse_and_preprocess('VTBR_200101_230308.csv')"
   ]
  },
  {
   "cell_type": "markdown",
   "id": "5af3967c",
   "metadata": {},
   "source": [
    "#### Обзор датафрейма"
   ]
  },
  {
   "cell_type": "code",
   "execution_count": 7,
   "id": "d2f44426",
   "metadata": {
    "scrolled": false
   },
   "outputs": [
    {
     "name": "stdout",
     "output_type": "stream",
     "text": [
      "Выведем датафрейм на экран:\n"
     ]
    },
    {
     "data": {
      "text/html": [
       "<div>\n",
       "<style scoped>\n",
       "    .dataframe tbody tr th:only-of-type {\n",
       "        vertical-align: middle;\n",
       "    }\n",
       "\n",
       "    .dataframe tbody tr th {\n",
       "        vertical-align: top;\n",
       "    }\n",
       "\n",
       "    .dataframe thead th {\n",
       "        text-align: right;\n",
       "    }\n",
       "</style>\n",
       "<table border=\"1\" class=\"dataframe\">\n",
       "  <thead>\n",
       "    <tr style=\"text-align: right;\">\n",
       "      <th></th>\n",
       "      <th>TICKER</th>\n",
       "      <th>PER</th>\n",
       "      <th>TIME</th>\n",
       "      <th>OPEN</th>\n",
       "      <th>HIGH</th>\n",
       "      <th>LOW</th>\n",
       "      <th>CLOSE</th>\n",
       "      <th>VOL</th>\n",
       "    </tr>\n",
       "    <tr>\n",
       "      <th>DATE</th>\n",
       "      <th></th>\n",
       "      <th></th>\n",
       "      <th></th>\n",
       "      <th></th>\n",
       "      <th></th>\n",
       "      <th></th>\n",
       "      <th></th>\n",
       "      <th></th>\n",
       "    </tr>\n",
       "  </thead>\n",
       "  <tbody>\n",
       "    <tr>\n",
       "      <th>2020-01-03</th>\n",
       "      <td>VTBR</td>\n",
       "      <td>D</td>\n",
       "      <td>0</td>\n",
       "      <td>0.046105</td>\n",
       "      <td>0.046340</td>\n",
       "      <td>0.045995</td>\n",
       "      <td>0.046240</td>\n",
       "      <td>11882340000</td>\n",
       "    </tr>\n",
       "    <tr>\n",
       "      <th>2020-01-06</th>\n",
       "      <td>VTBR</td>\n",
       "      <td>D</td>\n",
       "      <td>0</td>\n",
       "      <td>0.046110</td>\n",
       "      <td>0.046195</td>\n",
       "      <td>0.045930</td>\n",
       "      <td>0.046110</td>\n",
       "      <td>7975960000</td>\n",
       "    </tr>\n",
       "    <tr>\n",
       "      <th>2020-01-08</th>\n",
       "      <td>VTBR</td>\n",
       "      <td>D</td>\n",
       "      <td>0</td>\n",
       "      <td>0.046210</td>\n",
       "      <td>0.047000</td>\n",
       "      <td>0.046200</td>\n",
       "      <td>0.046525</td>\n",
       "      <td>28637340000</td>\n",
       "    </tr>\n",
       "    <tr>\n",
       "      <th>2020-01-09</th>\n",
       "      <td>VTBR</td>\n",
       "      <td>D</td>\n",
       "      <td>0</td>\n",
       "      <td>0.046820</td>\n",
       "      <td>0.047300</td>\n",
       "      <td>0.046575</td>\n",
       "      <td>0.047075</td>\n",
       "      <td>29466080000</td>\n",
       "    </tr>\n",
       "    <tr>\n",
       "      <th>2020-01-10</th>\n",
       "      <td>VTBR</td>\n",
       "      <td>D</td>\n",
       "      <td>0</td>\n",
       "      <td>0.047120</td>\n",
       "      <td>0.047890</td>\n",
       "      <td>0.047005</td>\n",
       "      <td>0.047600</td>\n",
       "      <td>29871600000</td>\n",
       "    </tr>\n",
       "    <tr>\n",
       "      <th>...</th>\n",
       "      <td>...</td>\n",
       "      <td>...</td>\n",
       "      <td>...</td>\n",
       "      <td>...</td>\n",
       "      <td>...</td>\n",
       "      <td>...</td>\n",
       "      <td>...</td>\n",
       "      <td>...</td>\n",
       "    </tr>\n",
       "    <tr>\n",
       "      <th>2023-03-02</th>\n",
       "      <td>VTBR</td>\n",
       "      <td>D</td>\n",
       "      <td>0</td>\n",
       "      <td>0.016645</td>\n",
       "      <td>0.016725</td>\n",
       "      <td>0.016235</td>\n",
       "      <td>0.016405</td>\n",
       "      <td>40073750000</td>\n",
       "    </tr>\n",
       "    <tr>\n",
       "      <th>2023-03-03</th>\n",
       "      <td>VTBR</td>\n",
       "      <td>D</td>\n",
       "      <td>0</td>\n",
       "      <td>0.016430</td>\n",
       "      <td>0.016600</td>\n",
       "      <td>0.016385</td>\n",
       "      <td>0.016585</td>\n",
       "      <td>22263850000</td>\n",
       "    </tr>\n",
       "    <tr>\n",
       "      <th>2023-03-06</th>\n",
       "      <td>VTBR</td>\n",
       "      <td>D</td>\n",
       "      <td>0</td>\n",
       "      <td>0.016645</td>\n",
       "      <td>0.016810</td>\n",
       "      <td>0.016630</td>\n",
       "      <td>0.016770</td>\n",
       "      <td>30677970000</td>\n",
       "    </tr>\n",
       "    <tr>\n",
       "      <th>2023-03-07</th>\n",
       "      <td>VTBR</td>\n",
       "      <td>D</td>\n",
       "      <td>0</td>\n",
       "      <td>0.016800</td>\n",
       "      <td>0.016865</td>\n",
       "      <td>0.016675</td>\n",
       "      <td>0.016765</td>\n",
       "      <td>24468150000</td>\n",
       "    </tr>\n",
       "    <tr>\n",
       "      <th>2023-03-09</th>\n",
       "      <td>VTBR</td>\n",
       "      <td>D</td>\n",
       "      <td>0</td>\n",
       "      <td>0.016790</td>\n",
       "      <td>0.016835</td>\n",
       "      <td>0.016655</td>\n",
       "      <td>0.016680</td>\n",
       "      <td>21167180000</td>\n",
       "    </tr>\n",
       "  </tbody>\n",
       "</table>\n",
       "<p>785 rows × 8 columns</p>\n",
       "</div>"
      ],
      "text/plain": [
       "           TICKER PER  TIME      OPEN      HIGH       LOW     CLOSE  \\\n",
       "DATE                                                                  \n",
       "2020-01-03   VTBR   D     0  0.046105  0.046340  0.045995  0.046240   \n",
       "2020-01-06   VTBR   D     0  0.046110  0.046195  0.045930  0.046110   \n",
       "2020-01-08   VTBR   D     0  0.046210  0.047000  0.046200  0.046525   \n",
       "2020-01-09   VTBR   D     0  0.046820  0.047300  0.046575  0.047075   \n",
       "2020-01-10   VTBR   D     0  0.047120  0.047890  0.047005  0.047600   \n",
       "...           ...  ..   ...       ...       ...       ...       ...   \n",
       "2023-03-02   VTBR   D     0  0.016645  0.016725  0.016235  0.016405   \n",
       "2023-03-03   VTBR   D     0  0.016430  0.016600  0.016385  0.016585   \n",
       "2023-03-06   VTBR   D     0  0.016645  0.016810  0.016630  0.016770   \n",
       "2023-03-07   VTBR   D     0  0.016800  0.016865  0.016675  0.016765   \n",
       "2023-03-09   VTBR   D     0  0.016790  0.016835  0.016655  0.016680   \n",
       "\n",
       "                    VOL  \n",
       "DATE                     \n",
       "2020-01-03  11882340000  \n",
       "2020-01-06   7975960000  \n",
       "2020-01-08  28637340000  \n",
       "2020-01-09  29466080000  \n",
       "2020-01-10  29871600000  \n",
       "...                 ...  \n",
       "2023-03-02  40073750000  \n",
       "2023-03-03  22263850000  \n",
       "2023-03-06  30677970000  \n",
       "2023-03-07  24468150000  \n",
       "2023-03-09  21167180000  \n",
       "\n",
       "[785 rows x 8 columns]"
      ]
     },
     "metadata": {},
     "output_type": "display_data"
    },
    {
     "name": "stdout",
     "output_type": "stream",
     "text": [
      "Сводная информация по датафрейму:\n",
      "<class 'pandas.core.frame.DataFrame'>\n",
      "DatetimeIndex: 785 entries, 2020-01-03 to 2023-03-09\n",
      "Data columns (total 8 columns):\n",
      " #   Column  Non-Null Count  Dtype  \n",
      "---  ------  --------------  -----  \n",
      " 0   TICKER  785 non-null    object \n",
      " 1   PER     785 non-null    object \n",
      " 2   TIME    785 non-null    int64  \n",
      " 3   OPEN    785 non-null    float64\n",
      " 4   HIGH    785 non-null    float64\n",
      " 5   LOW     785 non-null    float64\n",
      " 6   CLOSE   785 non-null    float64\n",
      " 7   VOL     785 non-null    int64  \n",
      "dtypes: float64(4), int64(2), object(2)\n",
      "memory usage: 55.2+ KB\n",
      "Проверим наличие пропусков данных:\n",
      "TICKER    0\n",
      "PER       0\n",
      "TIME      0\n",
      "OPEN      0\n",
      "HIGH      0\n",
      "LOW       0\n",
      "CLOSE     0\n",
      "VOL       0\n",
      "dtype: int64\n",
      "Распечатаем график цен закрытия:\n"
     ]
    },
    {
     "data": {
      "image/png": "[encoded data removed]",
      "text/plain": [
       "<Figure size 1080x648 with 1 Axes>"
      ]
     },
     "metadata": {},
     "output_type": "display_data"
    }
   ],
   "source": [
    "init_observ(vtb)"
   ]
  },
  {
   "cell_type": "markdown",
   "id": "9cc55ce4",
   "metadata": {},
   "source": [
    "## Расчет дневных доходностей"
   ]
  },
  {
   "cell_type": "code",
   "execution_count": 8,
   "id": "9e41f37f",
   "metadata": {},
   "outputs": [],
   "source": [
    "vtb['returns'] = vtb['CLOSE'].pct_change()"
   ]
  },
  {
   "cell_type": "markdown",
   "id": "4ac20dc1",
   "metadata": {},
   "source": [
    "## Оставим только те дни, за которые имеются котировки."
   ]
  },
  {
   "cell_type": "code",
   "execution_count": 9,
   "id": "6d7b51ab",
   "metadata": {},
   "outputs": [],
   "source": [
    "vtb = vtb.dropna()"
   ]
  },
  {
   "cell_type": "markdown",
   "id": "b715d6f3",
   "metadata": {},
   "source": [
    "## Переходим к расчету показателя непараметрический (исторический) VaR."
   ]
  },
  {
   "cell_type": "markdown",
   "id": "dacbae31",
   "metadata": {},
   "source": [
    "Зададим доверительный уровень."
   ]
  },
  {
   "cell_type": "code",
   "execution_count": 10,
   "id": "d9540be9",
   "metadata": {},
   "outputs": [],
   "source": [
    "var_level = 95"
   ]
  },
  {
   "cell_type": "markdown",
   "id": "f1c6f1aa",
   "metadata": {},
   "source": [
    "Рассчитаем показатель стоимости под риском для заданного интервала."
   ]
  },
  {
   "cell_type": "code",
   "execution_count": 11,
   "id": "92784f47",
   "metadata": {},
   "outputs": [],
   "source": [
    "var_95 = vtb['returns'].quantile((100 - var_level) / 100)"
   ]
  },
  {
   "cell_type": "code",
   "execution_count": 12,
   "id": "b99aa29f",
   "metadata": {},
   "outputs": [
    {
     "name": "stdout",
     "output_type": "stream",
     "text": [
      "VaR(95) = -0.0384\n"
     ]
    }
   ],
   "source": [
    "print('VaR({}) = {:.4f}'.format(var_level, var_95))"
   ]
  },
  {
   "cell_type": "markdown",
   "id": "53f9da76",
   "metadata": {},
   "source": [
    "Данный показатель интерпретируется следующим образом: в 95% случаев убытки за один день не превысят указанную выше величину."
   ]
  },
  {
   "cell_type": "markdown",
   "id": "5264b127",
   "metadata": {},
   "source": [
    "С применением полученного выше значения рассчитаем Conditional VaR: математическое ожидание (средняя величина) убытков в оставшихся пяти процентах случаев (в нашем примере). "
   ]
  },
  {
   "cell_type": "code",
   "execution_count": 13,
   "id": "28ab5cf3",
   "metadata": {},
   "outputs": [],
   "source": [
    "cvar_95 = vtb.loc[vtb['returns'] <= var_95, 'returns'].mean()"
   ]
  },
  {
   "cell_type": "code",
   "execution_count": 14,
   "id": "4ef3b489",
   "metadata": {},
   "outputs": [
    {
     "name": "stdout",
     "output_type": "stream",
     "text": [
      "СVaR(95) = -0.0679\n"
     ]
    }
   ],
   "source": [
    "print('СVaR({}) = {:.4f}'.format(var_level, cvar_95))"
   ]
  },
  {
   "cell_type": "markdown",
   "id": "13d114bc",
   "metadata": {},
   "source": [
    "Данный показатель интерпретируется следующим образом: в оставшихся 5% случаев, когда убытки за один день превышают величину VaR, можем в среднем ожидать убытков в размере CVaR."
   ]
  },
  {
   "cell_type": "markdown",
   "id": "b10d6d7b",
   "metadata": {},
   "source": [
    "## Параметрический VaR."
   ]
  },
  {
   "cell_type": "markdown",
   "id": "5160acba",
   "metadata": {},
   "source": [
    "Параметрический VaR исходит из предположения о нормальности распределения дневных доходностей и позволяет рассчитать показатель VaR, применив свойства нормального распределения."
   ]
  },
  {
   "cell_type": "markdown",
   "id": "a17c8aef",
   "metadata": {},
   "source": [
    "Задаем значение средней дневной доходности."
   ]
  },
  {
   "cell_type": "code",
   "execution_count": 15,
   "id": "4d273e7e",
   "metadata": {},
   "outputs": [],
   "source": [
    "mu = vtb['returns'].mean()"
   ]
  },
  {
   "cell_type": "markdown",
   "id": "3056beef",
   "metadata": {},
   "source": [
    "Задаем значение стандартного отклонения дневных доходностей."
   ]
  },
  {
   "cell_type": "code",
   "execution_count": 16,
   "id": "b7eb26e9",
   "metadata": {},
   "outputs": [],
   "source": [
    "std = vtb['returns'].std()"
   ]
  },
  {
   "cell_type": "markdown",
   "id": "45e5bc57",
   "metadata": {},
   "source": [
    "Используем var_level заданный выше."
   ]
  },
  {
   "cell_type": "code",
   "execution_count": 17,
   "id": "42177f8f",
   "metadata": {},
   "outputs": [],
   "source": [
    "VaR = norm.ppf((100 - var_level) / 100, mu, std)"
   ]
  },
  {
   "cell_type": "code",
   "execution_count": 18,
   "id": "07c34732",
   "metadata": {},
   "outputs": [
    {
     "name": "stdout",
     "output_type": "stream",
     "text": [
      "Parametric VaR(95) = -0.0472\n"
     ]
    }
   ],
   "source": [
    "print('Parametric VaR({}) = {:.4f}'.format(var_level, VaR))"
   ]
  },
  {
   "cell_type": "markdown",
   "id": "0bb45945",
   "metadata": {},
   "source": [
    "Интерпретация аналогична VaR."
   ]
  },
  {
   "cell_type": "markdown",
   "id": "1c7acb71",
   "metadata": {},
   "source": [
    "## Выведем гистограмму распределения дневных доходностей с нанесенными уровнями VaR, CVaR и Parametric VaR."
   ]
  },
  {
   "cell_type": "code",
   "execution_count": 19,
   "id": "00f6caa9",
   "metadata": {
    "scrolled": false
   },
   "outputs": [
    {
     "data": {
      "image/png": "[encoded data removed]",
      "text/plain": [
       "<Figure size 1080x648 with 1 Axes>"
      ]
     },
     "metadata": {},
     "output_type": "display_data"
    }
   ],
   "source": [
    "plt.figure(figsize=(15, 9))\n",
    "vtb['returns'].hist(bins = 50, label = 'Распределение дневных доходностей')\n",
    "plt.vlines(var_95, 0, 250, color = 'r', label = 'Var')\n",
    "plt.vlines(cvar_95, 0, 250, color = 'g', label = 'CVaR')\n",
    "plt.vlines(VaR, 0, 250, color = 'y', label = 'Param. VaR')\n",
    "plt.legend()\n",
    "plt.show()"
   ]
  },
  {
   "cell_type": "markdown",
   "id": "3a30eae2",
   "metadata": {},
   "source": [
    "## Пример применения."
   ]
  },
  {
   "cell_type": "code",
   "execution_count": 20,
   "id": "0dffa4e4",
   "metadata": {},
   "outputs": [],
   "source": [
    "prt_sum = 100000000"
   ]
  },
  {
   "cell_type": "code",
   "execution_count": 21,
   "id": "1fd7e4c5",
   "metadata": {},
   "outputs": [],
   "source": [
    "risk = prt_sum * (var_95)"
   ]
  },
  {
   "cell_type": "code",
   "execution_count": 22,
   "id": "c84c4944",
   "metadata": {},
   "outputs": [
    {
     "name": "stdout",
     "output_type": "stream",
     "text": [
      "-3843143.81\n"
     ]
    }
   ],
   "source": [
    "print('{:.2f}'.format(risk))"
   ]
  },
  {
   "cell_type": "markdown",
   "id": "dd8bc1ef",
   "metadata": {},
   "source": [
    "Предположим, лимит на акции ВТБ составляет 100 млн руб. Проведенный расчет показывает, что в 95% случаев величина потерь не превысит 3,84 млн руб (на горизонте один день)."
   ]
  },
  {
   "cell_type": "code",
   "execution_count": 23,
   "id": "6a9805e5",
   "metadata": {},
   "outputs": [],
   "source": [
    "exp_loss = prt_sum * (cvar_95)"
   ]
  },
  {
   "cell_type": "code",
   "execution_count": 24,
   "id": "f6462cde",
   "metadata": {},
   "outputs": [
    {
     "name": "stdout",
     "output_type": "stream",
     "text": [
      "-6794027.13\n"
     ]
    }
   ],
   "source": [
    "print('{:.2f}'.format(exp_loss))"
   ]
  },
  {
   "cell_type": "markdown",
   "id": "27ac68e9",
   "metadata": {},
   "source": [
    "В оставшихся 5% случаев ожидаемый (средний) размер потерь составит 6,8 млн руб. Расчеты проведены на основе исторического подхода к оцениванию VaR."
   ]
  },
  {
   "cell_type": "code",
   "execution_count": 25,
   "id": "a56c794d",
   "metadata": {},
   "outputs": [],
   "source": [
    "param_risk = prt_sum * (VaR)"
   ]
  },
  {
   "cell_type": "code",
   "execution_count": 26,
   "id": "5f89c9fa",
   "metadata": {},
   "outputs": [
    {
     "name": "stdout",
     "output_type": "stream",
     "text": [
      "-4722821.74\n"
     ]
    }
   ],
   "source": [
    "print('{:.2f}'.format(param_risk))"
   ]
  },
  {
   "cell_type": "markdown",
   "id": "dcdb35f1",
   "metadata": {},
   "source": [
    "С применением параметрического VaR получим оценку, портфель первоначальной стоимостью 100 млн руб в течение дня с вероятность 95% не потеряет в цене более 4,72 млн руб."
   ]
  },
  {
   "cell_type": "markdown",
   "id": "cf9301cf",
   "metadata": {},
   "source": [
    "## Выводы:"
   ]
  },
  {
   "cell_type": "markdown",
   "id": "55364f80",
   "metadata": {},
   "source": [
    "Привели методику расчета показателя стоимости под риском с применением нескольких подходов.\n",
    "\n",
    "Привели пример применения для оценки риска портфеля."
   ]
  }
 ],
 "metadata": {
  "kernelspec": {
   "display_name": "Python 3 (ipykernel)",
   "language": "python",
   "name": "python3"
  },
  "language_info": {
   "codemirror_mode": {
    "name": "ipython",
    "version": 3
   },
   "file_extension": ".py",
   "mimetype": "text/x-python",
   "name": "python",
   "nbconvert_exporter": "python",
   "pygments_lexer": "ipython3",
   "version": "3.9.12"
  }
 },
 "nbformat": 4,
 "nbformat_minor": 5
}
